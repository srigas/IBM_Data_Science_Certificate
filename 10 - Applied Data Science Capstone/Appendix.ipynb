{
 "cells": [
  {
   "cell_type": "code",
   "execution_count": 1,
   "id": "c52a55e1",
   "metadata": {},
   "outputs": [],
   "source": [
    "import pandas as pd"
   ]
  },
  {
   "cell_type": "code",
   "execution_count": 2,
   "id": "5ab21443",
   "metadata": {},
   "outputs": [],
   "source": [
    "df=pd.read_csv(\"Spacex.csv\")"
   ]
  },
  {
   "cell_type": "markdown",
   "id": "cf7599c9",
   "metadata": {},
   "source": [
    "It appears that the Date format (DD-MM-YYYY) is not compatible with any of the options provided by the IBM-Db2 Service."
   ]
  },
  {
   "cell_type": "markdown",
   "id": "0f7e2202",
   "metadata": {},
   "source": [
    "For this reason we shall switch it to YYYY-MM-DD."
   ]
  },
  {
   "cell_type": "code",
   "execution_count": 3,
   "id": "190687ea",
   "metadata": {},
   "outputs": [],
   "source": [
    "ar = []\n",
    "for x in df['Date']:\n",
    "    ar.append(x[6:] + '-' + x[3:5] + '-' + x[0:2])\n",
    "\n",
    "df['Date'] = ar"
   ]
  },
  {
   "cell_type": "code",
   "execution_count": 4,
   "id": "b960ede9",
   "metadata": {},
   "outputs": [
    {
     "data": {
      "text/plain": [
       "0      2010-06-04\n",
       "1      2010-12-08\n",
       "2      2012-05-22\n",
       "3      2012-10-08\n",
       "4      2013-03-01\n",
       "          ...    \n",
       "96     2020-11-05\n",
       "97     2020-11-16\n",
       "98     2020-11-21\n",
       "99     2020-11-25\n",
       "100    2020-12-06\n",
       "Name: Date, Length: 101, dtype: object"
      ]
     },
     "execution_count": 4,
     "metadata": {},
     "output_type": "execute_result"
    }
   ],
   "source": [
    "df['Date']"
   ]
  },
  {
   "cell_type": "markdown",
   "id": "5528551a",
   "metadata": {},
   "source": [
    "Let's save it into the .csv file we will be loading from the Db2 service."
   ]
  },
  {
   "cell_type": "code",
   "execution_count": 5,
   "id": "6f7618c1",
   "metadata": {},
   "outputs": [],
   "source": [
    "df.to_csv(\"spacexfixed.csv\", index=False)"
   ]
  }
 ],
 "metadata": {
  "kernelspec": {
   "display_name": "Python 3",
   "language": "python",
   "name": "python3"
  },
  "language_info": {
   "codemirror_mode": {
    "name": "ipython",
    "version": 3
   },
   "file_extension": ".py",
   "mimetype": "text/x-python",
   "name": "python",
   "nbconvert_exporter": "python",
   "pygments_lexer": "ipython3",
   "version": "3.8.8"
  }
 },
 "nbformat": 4,
 "nbformat_minor": 5
}
