{
 "cells": [
  {
   "cell_type": "markdown",
   "metadata": {},
   "source": [
    "# My Jupyter Notebook on IBM Watson Studio"
   ]
  },
  {
   "cell_type": "markdown",
   "metadata": {},
   "source": [
    "**Spyros Rigas**\n",
    "\n",
    "PhD Candidate in Condensed Matter Physics"
   ]
  },
  {
   "cell_type": "markdown",
   "metadata": {},
   "source": [
    "_I am interested in data science because the tools and coding languages that are often used in this field are extremely helpful for academic purposes as well, including research in Experimental Condensed Matter Physics._"
   ]
  },
  {
   "cell_type": "markdown",
   "metadata": {},
   "source": [
    "### The code in the following cell prints the result of the addition of two numbers, a and b."
   ]
  },
  {
   "cell_type": "code",
   "execution_count": 10,
   "metadata": {},
   "outputs": [
    {
     "name": "stdout",
     "output_type": "stream",
     "text": [
      "The result of adding these two numbers is 5.\n"
     ]
    }
   ],
   "source": [
    "a = 2\n",
    "b = 3\n",
    "result = a+b\n",
    "print(\"The result of adding these two numbers is %d.\" % result)"
   ]
  },
  {
   "cell_type": "markdown",
   "metadata": {},
   "source": [
    "---\n",
    "\n",
    "The following table contains more sets of a and b, as well as the corresponding result of their addition.\n",
    "\n",
    "|a|b|result|\n",
    "|:---:|:---:|:---:|\n",
    "|4|12|16|\n",
    "|7|8|15|\n",
    "|-6|2|-4|\n",
    "\n",
    "Similar functions can be created for:\n",
    "* subtraction, using `result = a-b`\n",
    "* multiplication, using `result = a*b`\n",
    "* division, using `result = a/b`, as long as b is nonzero\n",
    "\n",
    "and others, for two numbers a and b.\n",
    "\n",
    "For more operations you can visit [this link](https://www.w3schools.com/python/python_operators.asp \"More Python Operations\"), where more operations for the Python language are mentioned.\n",
    "\n",
    "> _Written in Python, the most popular language for Data Science._\n",
    "\n",
    "---"
   ]
  }
 ],
 "metadata": {
  "kernelspec": {
   "display_name": "Python 3",
   "language": "python",
   "name": "python3"
  },
  "language_info": {
   "codemirror_mode": {
    "name": "ipython",
    "version": 3
   },
   "file_extension": ".py",
   "mimetype": "text/x-python",
   "name": "python",
   "nbconvert_exporter": "python",
   "pygments_lexer": "ipython3",
   "version": "3.8.5"
  }
 },
 "nbformat": 4,
 "nbformat_minor": 4
}
